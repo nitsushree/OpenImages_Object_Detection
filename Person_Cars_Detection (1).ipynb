{
  "cells": [
    {
      "cell_type": "markdown",
      "source": [
        "### Mount Drive & Directory Setting"
      ],
      "metadata": {
        "id": "y4Dh9AF80Vvc"
      }
    },
    {
      "cell_type": "code",
      "execution_count": null,
      "metadata": {
        "colab": {
          "base_uri": "https://localhost:8080/"
        },
        "id": "RL6tmLtQjQ80",
        "outputId": "19323f8f-f267-4dc8-f6d0-1b348da09fc4"
      },
      "outputs": [
        {
          "output_type": "stream",
          "name": "stdout",
          "text": [
            "Mounted at /content/drive\n"
          ]
        }
      ],
      "source": [
        "from google.colab import drive\n",
        "drive.mount('/content/drive')"
      ]
    },
    {
      "cell_type": "code",
      "execution_count": null,
      "metadata": {
        "id": "KqZrGVUWjjET"
      },
      "outputs": [],
      "source": [
        "import os\n",
        "os.chdir(\"/content/drive/MyDrive/OpenImages\")"
      ]
    },
    {
      "cell_type": "markdown",
      "metadata": {
        "id": "h_DDIIW9--P9"
      },
      "source": [
        "### Import required libraries"
      ]
    },
    {
      "cell_type": "code",
      "execution_count": null,
      "metadata": {
        "id": "L5J1YonrkLfr"
      },
      "outputs": [],
      "source": [
        "!pip install detecto"
      ]
    },
    {
      "cell_type": "code",
      "execution_count": null,
      "metadata": {
        "id": "67rCzZ5oTf9V"
      },
      "outputs": [],
      "source": [
        "from pycocotools.coco import COCO\n",
        "from Sushree_Detecto_Custom.detecto import core, utils, visualize\n",
        "from Sushree_Detecto_Custom.detecto.visualize import show_labeled_image, plot_prediction_grid\n",
        "from torchvision import transforms\n",
        "import matplotlib.pyplot as plt, numpy as np, pandas as pd, cv2, os, torch, shutil, random, pickle, json, tarfile, os\n",
        "import torchvision\n",
        "from pathlib import Path\n",
        "from sklearn.utils import shuffle\n",
        "%load_ext autoreload\n",
        "%autoreload 2\n",
        "from detecto.utils import reverse_normalize, normalize_transform, _is_iterable\n",
        "import matplotlib.patches as patches\n",
        "from torchvision.transforms.transforms import RandomHorizontalFlip"
      ]
    },
    {
      "cell_type": "code",
      "execution_count": null,
      "metadata": {
        "id": "WObnw_whlCkS"
      },
      "outputs": [],
      "source": [
        ""
      ]
    },
    {
      "cell_type": "markdown",
      "metadata": {
        "id": "kM7vaFFt--QE"
      },
      "source": [
        "### Read the data and Prepare the data\n",
        "#### Convert COCO format to Pascal VOC format"
      ]
    },
    {
      "cell_type": "code",
      "execution_count": null,
      "metadata": {
        "colab": {
          "base_uri": "https://localhost:8080/"
        },
        "id": "qyppuH2W12rf",
        "outputId": "d5f136c2-592b-4e92-acb8-eccea93b565e"
      },
      "outputs": [
        {
          "name": "stdout",
          "output_type": "stream",
          "text": [
            "loading annotations into memory...\n",
            "Done (t=1.58s)\n",
            "creating index...\n",
            "index created!\n"
          ]
        }
      ],
      "source": [
        "# Convert the COCO format (json) into a CSV\n",
        "\n",
        "# Training annotation COCO path\n",
        "train_annot_path = '/content/drive/MyDrive/OpenImages/trainval/annotations/bbox-annotations.json'\n",
        "\n",
        "# Load the COCO for the training set\n",
        "train_coco = COCO(train_annot_path)\n",
        "\n",
        "# Function to Convert JSON format to CSV (As Detecto model requires Either Pascal VOC format/CSV)\n",
        "def get_meta(coco):\n",
        "  ids = list(coco.imgs.keys())\n",
        "  for i, img_id in enumerate(ids):\n",
        "    img_meta = coco.imgs[img_id]\n",
        "    ann_ids = coco.getAnnIds(imgIds=img_id)\n",
        "    # The basic parameters of the image\n",
        "    img_file_name = img_meta['file_name']\n",
        "    w = img_meta['width']\n",
        "    h = img_meta['height']\n",
        "    # Retrieve the metadata of everyone in the current image\n",
        "    anns = coco.loadAnns(ann_ids)\n",
        "    yield [img_id, img_file_name, w, h, anns]\n",
        "\n",
        "def convert_to_df(coco):\n",
        "  images_data = []\n",
        "  persons_data = []\n",
        "  # Traverse all images\n",
        "  for img_id, img_fname, w, h, meta in get_meta(coco):\n",
        "    images_data.append({\n",
        "    'filename': str(img_fname),\n",
        "    'image_id': int(img_id),\n",
        "    'width': int(w),\n",
        "    'height': int(h)\n",
        "    })\n",
        "    # Traverse all metadata\n",
        "    for m in meta:\n",
        "      persons_data.append({\n",
        "      'class': m['category_id'],\n",
        "      'image_id': m['image_id'],\n",
        "      'bbox': m['bbox'],\n",
        "      })\n",
        "  # Create data frames with image paths\n",
        "  images_df = pd.DataFrame(images_data)\n",
        "  images_df.set_index('image_id', inplace=True)\n",
        "  # Create human related data frames\n",
        "  persons_df = pd.DataFrame(persons_data)\n",
        "  persons_df.set_index('image_id', inplace=True)\n",
        "  return images_df, persons_df"
      ]
    },
    {
      "cell_type": "code",
      "execution_count": null,
      "metadata": {
        "colab": {
          "base_uri": "https://localhost:8080/"
        },
        "id": "CRudRX8lX-kE",
        "outputId": "9b33f4fe-cbc7-4f5f-84a8-12b30d83cc06"
      },
      "outputs": [
        {
          "data": {
            "text/plain": [
              "[1, 2]"
            ]
          },
          "execution_count": 7,
          "metadata": {},
          "output_type": "execute_result"
        }
      ],
      "source": [
        "# Get classes\n",
        "train_coco.getCatIds(['person','car'])"
      ]
    },
    {
      "cell_type": "code",
      "execution_count": null,
      "metadata": {
        "colab": {
          "base_uri": "https://localhost:8080/"
        },
        "id": "UX7-qt2V3Bv8",
        "outputId": "c3056a87-b3d0-4795-9d27-467832e10ba8"
      },
      "outputs": [
        {
          "name": "stderr",
          "output_type": "stream",
          "text": [
            "/usr/local/lib/python3.7/dist-packages/pandas/core/indexing.py:1732: SettingWithCopyWarning: \n",
            "A value is trying to be set on a copy of a slice from a DataFrame\n",
            "\n",
            "See the caveats in the documentation: https://pandas.pydata.org/pandas-docs/stable/user_guide/indexing.html#returning-a-view-versus-a-copy\n",
            "  self._setitem_single_block(indexer, value, name)\n"
          ]
        }
      ],
      "source": [
        "images_df, persons_df = convert_to_df(train_coco)\n",
        "train_coco_df = pd.merge(images_df, persons_df, right_index=True, left_index=True)\n",
        "train_coco_df['xmin'] = 0\n",
        "train_coco_df['ymin'] = 0\n",
        "train_coco_df['xmax'] = 0\n",
        "train_coco_df['ymax'] = 0\n",
        "train_coco_df['image_id'] = train_coco_df.index\n",
        "train_coco_df.reset_index(drop=True, inplace=True)\n",
        "\n",
        "# Converting \"bbox\"(xmin,ymin,width,height) to Pascal format(xmin,ymin,xmax,ymax)\n",
        "for i in range(len(train_coco_df)):\n",
        "  train_coco_df[\"xmin\"].iloc[i] = int(train_coco_df['bbox'].iloc[i][0])\n",
        "  train_coco_df[\"ymin\"].iloc[i] = int(train_coco_df['bbox'].iloc[i][1])\n",
        "  train_coco_df[\"xmax\"].iloc[i] = int(train_coco_df['bbox'].iloc[i][0]) + int(train_coco_df['bbox'].iloc[i][2])\n",
        "  train_coco_df[\"ymax\"].iloc[i] = int(train_coco_df['bbox'].iloc[i][1]) + int(train_coco_df['bbox'].iloc[i][3])\n",
        "\n",
        "# Converting \"class\" (integer:1/2) to str(\"person/car\")\n",
        "for i in range(len(train_coco_df)):\n",
        "  if train_coco_df['class'].iloc[i] == int(1): train_coco_df['class'].iloc[i] = str('person')\n",
        "  else: train_coco_df['class'].iloc[i] = str('car')"
      ]
    },
    {
      "cell_type": "code",
      "execution_count": null,
      "metadata": {
        "colab": {
          "base_uri": "https://localhost:8080/",
          "height": 300
        },
        "id": "u3_uMe_qar_9",
        "outputId": "8a001e57-9946-4e81-bd83-b7383d413aa2"
      },
      "outputs": [
        {
          "data": {
            "text/html": [
              "\n",
              "  <div id=\"df-2cef4888-b795-4c81-a90a-99260af5d8e3\">\n",
              "    <div class=\"colab-df-container\">\n",
              "      <div>\n",
              "<style scoped>\n",
              "    .dataframe tbody tr th:only-of-type {\n",
              "        vertical-align: middle;\n",
              "    }\n",
              "\n",
              "    .dataframe tbody tr th {\n",
              "        vertical-align: top;\n",
              "    }\n",
              "\n",
              "    .dataframe thead th {\n",
              "        text-align: right;\n",
              "    }\n",
              "</style>\n",
              "<table border=\"1\" class=\"dataframe\">\n",
              "  <thead>\n",
              "    <tr style=\"text-align: right;\">\n",
              "      <th></th>\n",
              "      <th>width</th>\n",
              "      <th>height</th>\n",
              "      <th>xmin</th>\n",
              "      <th>ymin</th>\n",
              "      <th>xmax</th>\n",
              "      <th>ymax</th>\n",
              "      <th>image_id</th>\n",
              "    </tr>\n",
              "  </thead>\n",
              "  <tbody>\n",
              "    <tr>\n",
              "      <th>count</th>\n",
              "      <td>16772.000000</td>\n",
              "      <td>16772.000000</td>\n",
              "      <td>16772.000000</td>\n",
              "      <td>16772.000000</td>\n",
              "      <td>16772.000000</td>\n",
              "      <td>16772.000000</td>\n",
              "      <td>16772.000000</td>\n",
              "    </tr>\n",
              "    <tr>\n",
              "      <th>mean</th>\n",
              "      <td>999.082220</td>\n",
              "      <td>742.922371</td>\n",
              "      <td>422.889339</td>\n",
              "      <td>270.059027</td>\n",
              "      <td>569.586692</td>\n",
              "      <td>435.526353</td>\n",
              "      <td>1090.303363</td>\n",
              "    </tr>\n",
              "    <tr>\n",
              "      <th>std</th>\n",
              "      <td>102.926163</td>\n",
              "      <td>125.908542</td>\n",
              "      <td>300.326034</td>\n",
              "      <td>174.522806</td>\n",
              "      <td>301.863908</td>\n",
              "      <td>206.517234</td>\n",
              "      <td>642.705912</td>\n",
              "    </tr>\n",
              "    <tr>\n",
              "      <th>min</th>\n",
              "      <td>575.000000</td>\n",
              "      <td>282.000000</td>\n",
              "      <td>0.000000</td>\n",
              "      <td>0.000000</td>\n",
              "      <td>4.000000</td>\n",
              "      <td>3.000000</td>\n",
              "      <td>0.000000</td>\n",
              "    </tr>\n",
              "    <tr>\n",
              "      <th>25%</th>\n",
              "      <td>1024.000000</td>\n",
              "      <td>683.000000</td>\n",
              "      <td>152.750000</td>\n",
              "      <td>133.000000</td>\n",
              "      <td>316.000000</td>\n",
              "      <td>282.000000</td>\n",
              "      <td>523.000000</td>\n",
              "    </tr>\n",
              "    <tr>\n",
              "      <th>50%</th>\n",
              "      <td>1024.000000</td>\n",
              "      <td>696.000000</td>\n",
              "      <td>407.500000</td>\n",
              "      <td>261.000000</td>\n",
              "      <td>571.000000</td>\n",
              "      <td>422.000000</td>\n",
              "      <td>1082.000000</td>\n",
              "    </tr>\n",
              "    <tr>\n",
              "      <th>75%</th>\n",
              "      <td>1024.000000</td>\n",
              "      <td>768.000000</td>\n",
              "      <td>669.000000</td>\n",
              "      <td>376.000000</td>\n",
              "      <td>825.000000</td>\n",
              "      <td>570.000000</td>\n",
              "      <td>1630.000000</td>\n",
              "    </tr>\n",
              "    <tr>\n",
              "      <th>max</th>\n",
              "      <td>4496.000000</td>\n",
              "      <td>3000.000000</td>\n",
              "      <td>3883.000000</td>\n",
              "      <td>998.000000</td>\n",
              "      <td>4493.000000</td>\n",
              "      <td>2999.000000</td>\n",
              "      <td>2238.000000</td>\n",
              "    </tr>\n",
              "  </tbody>\n",
              "</table>\n",
              "</div>\n",
              "      <button class=\"colab-df-convert\" onclick=\"convertToInteractive('df-2cef4888-b795-4c81-a90a-99260af5d8e3')\"\n",
              "              title=\"Convert this dataframe to an interactive table.\"\n",
              "              style=\"display:none;\">\n",
              "        \n",
              "  <svg xmlns=\"http://www.w3.org/2000/svg\" height=\"24px\"viewBox=\"0 0 24 24\"\n",
              "       width=\"24px\">\n",
              "    <path d=\"M0 0h24v24H0V0z\" fill=\"none\"/>\n",
              "    <path d=\"M18.56 5.44l.94 2.06.94-2.06 2.06-.94-2.06-.94-.94-2.06-.94 2.06-2.06.94zm-11 1L8.5 8.5l.94-2.06 2.06-.94-2.06-.94L8.5 2.5l-.94 2.06-2.06.94zm10 10l.94 2.06.94-2.06 2.06-.94-2.06-.94-.94-2.06-.94 2.06-2.06.94z\"/><path d=\"M17.41 7.96l-1.37-1.37c-.4-.4-.92-.59-1.43-.59-.52 0-1.04.2-1.43.59L10.3 9.45l-7.72 7.72c-.78.78-.78 2.05 0 2.83L4 21.41c.39.39.9.59 1.41.59.51 0 1.02-.2 1.41-.59l7.78-7.78 2.81-2.81c.8-.78.8-2.07 0-2.86zM5.41 20L4 18.59l7.72-7.72 1.47 1.35L5.41 20z\"/>\n",
              "  </svg>\n",
              "      </button>\n",
              "      \n",
              "  <style>\n",
              "    .colab-df-container {\n",
              "      display:flex;\n",
              "      flex-wrap:wrap;\n",
              "      gap: 12px;\n",
              "    }\n",
              "\n",
              "    .colab-df-convert {\n",
              "      background-color: #E8F0FE;\n",
              "      border: none;\n",
              "      border-radius: 50%;\n",
              "      cursor: pointer;\n",
              "      display: none;\n",
              "      fill: #1967D2;\n",
              "      height: 32px;\n",
              "      padding: 0 0 0 0;\n",
              "      width: 32px;\n",
              "    }\n",
              "\n",
              "    .colab-df-convert:hover {\n",
              "      background-color: #E2EBFA;\n",
              "      box-shadow: 0px 1px 2px rgba(60, 64, 67, 0.3), 0px 1px 3px 1px rgba(60, 64, 67, 0.15);\n",
              "      fill: #174EA6;\n",
              "    }\n",
              "\n",
              "    [theme=dark] .colab-df-convert {\n",
              "      background-color: #3B4455;\n",
              "      fill: #D2E3FC;\n",
              "    }\n",
              "\n",
              "    [theme=dark] .colab-df-convert:hover {\n",
              "      background-color: #434B5C;\n",
              "      box-shadow: 0px 1px 3px 1px rgba(0, 0, 0, 0.15);\n",
              "      filter: drop-shadow(0px 1px 2px rgba(0, 0, 0, 0.3));\n",
              "      fill: #FFFFFF;\n",
              "    }\n",
              "  </style>\n",
              "\n",
              "      <script>\n",
              "        const buttonEl =\n",
              "          document.querySelector('#df-2cef4888-b795-4c81-a90a-99260af5d8e3 button.colab-df-convert');\n",
              "        buttonEl.style.display =\n",
              "          google.colab.kernel.accessAllowed ? 'block' : 'none';\n",
              "\n",
              "        async function convertToInteractive(key) {\n",
              "          const element = document.querySelector('#df-2cef4888-b795-4c81-a90a-99260af5d8e3');\n",
              "          const dataTable =\n",
              "            await google.colab.kernel.invokeFunction('convertToInteractive',\n",
              "                                                     [key], {});\n",
              "          if (!dataTable) return;\n",
              "\n",
              "          const docLinkHtml = 'Like what you see? Visit the ' +\n",
              "            '<a target=\"_blank\" href=https://colab.research.google.com/notebooks/data_table.ipynb>data table notebook</a>'\n",
              "            + ' to learn more about interactive tables.';\n",
              "          element.innerHTML = '';\n",
              "          dataTable['output_type'] = 'display_data';\n",
              "          await google.colab.output.renderOutput(dataTable, element);\n",
              "          const docLink = document.createElement('div');\n",
              "          docLink.innerHTML = docLinkHtml;\n",
              "          element.appendChild(docLink);\n",
              "        }\n",
              "      </script>\n",
              "    </div>\n",
              "  </div>\n",
              "  "
            ],
            "text/plain": [
              "              width        height          xmin          ymin          xmax  \\\n",
              "count  16772.000000  16772.000000  16772.000000  16772.000000  16772.000000   \n",
              "mean     999.082220    742.922371    422.889339    270.059027    569.586692   \n",
              "std      102.926163    125.908542    300.326034    174.522806    301.863908   \n",
              "min      575.000000    282.000000      0.000000      0.000000      4.000000   \n",
              "25%     1024.000000    683.000000    152.750000    133.000000    316.000000   \n",
              "50%     1024.000000    696.000000    407.500000    261.000000    571.000000   \n",
              "75%     1024.000000    768.000000    669.000000    376.000000    825.000000   \n",
              "max     4496.000000   3000.000000   3883.000000    998.000000   4493.000000   \n",
              "\n",
              "               ymax      image_id  \n",
              "count  16772.000000  16772.000000  \n",
              "mean     435.526353   1090.303363  \n",
              "std      206.517234    642.705912  \n",
              "min        3.000000      0.000000  \n",
              "25%      282.000000    523.000000  \n",
              "50%      422.000000   1082.000000  \n",
              "75%      570.000000   1630.000000  \n",
              "max     2999.000000   2238.000000  "
            ]
          },
          "execution_count": 9,
          "metadata": {},
          "output_type": "execute_result"
        }
      ],
      "source": [
        "train_coco_df.describe()"
      ]
    },
    {
      "cell_type": "code",
      "execution_count": null,
      "metadata": {
        "id": "b3KRKKxpIKdr"
      },
      "outputs": [],
      "source": [
        "# remove 'bbox' column from the dataframe\n",
        "train_coco_df.drop(columns=['bbox'], axis=1, inplace=True)"
      ]
    },
    {
      "cell_type": "code",
      "execution_count": null,
      "metadata": {
        "id": "cmlNo8Oig0Nh"
      },
      "outputs": [],
      "source": [
        "# save the data into the drive\n",
        "train_coco_df.to_csv(\"data.csv\", index=False)"
      ]
    },
    {
      "cell_type": "code",
      "execution_count": null,
      "metadata": {
        "id": "UpdqZLvnLzBr"
      },
      "outputs": [],
      "source": [
        "data = train_coco_df.sample(frac=1).reset_index(drop=True)"
      ]
    },
    {
      "cell_type": "markdown",
      "source": [
        "### Train-Validation-Test split\n",
        "80% Train - 20% Test\n",
        "80% of training - Train, 20% of train - Validation"
      ],
      "metadata": {
        "id": "xWcMKOm91Zns"
      }
    },
    {
      "cell_type": "code",
      "execution_count": null,
      "metadata": {
        "id": "tgUwbXRBj7_E"
      },
      "outputs": [],
      "source": [
        "train_val, test = data[:int(len(data)*0.80)], data[int(len(data)*0.80):]\n",
        "train, val = train_val[:int(len(train_val)*0.80)], train_val[int(len(train_val)*0.80):]"
      ]
    },
    {
      "cell_type": "code",
      "execution_count": null,
      "metadata": {
        "id": "pogYacETpSSV"
      },
      "outputs": [],
      "source": [
        "train.to_csv(\"train.csv\", index=False)\n",
        "val.to_csv(\"val.csv\", index=False)\n",
        "test.to_csv(\"test.csv\", index=False)"
      ]
    },
    {
      "cell_type": "code",
      "execution_count": null,
      "metadata": {
        "colab": {
          "base_uri": "https://localhost:8080/"
        },
        "id": "6d_AMshCj8BZ",
        "outputId": "fd869915-6f2c-4935-9a58-fafc03d80f85"
      },
      "outputs": [
        {
          "data": {
            "text/plain": [
              "(10733, 2684, 3355)"
            ]
          },
          "execution_count": 15,
          "metadata": {},
          "output_type": "execute_result"
        }
      ],
      "source": [
        "len(train), len(val), len(test)"
      ]
    },
    {
      "cell_type": "code",
      "execution_count": null,
      "metadata": {
        "id": "xTXNM82_pK4t"
      },
      "outputs": [],
      "source": [
        "\n",
        "# image transormations\n",
        "\n",
        "custom_transforms = transforms.Compose([\n",
        "    transforms.ToPILImage(),\n",
        "    transforms.Resize(1024),\n",
        "    transforms.RandomHorizontalFlip(),\n",
        "    transforms.RandomVerticalFlip(),\n",
        "    transforms.ColorJitter(saturation=0.3),\n",
        "    transforms.ToTensor(),\n",
        "    utils.normalize_transform(),\n",
        "])"
      ]
    },
    {
      "cell_type": "code",
      "execution_count": null,
      "metadata": {
        "id": "nRB15C8BpAip"
      },
      "outputs": [],
      "source": [
        "train_dataset = core.Dataset('train.csv', 'trainval/images', transform=custom_transforms)\n",
        "train_loader = core.DataLoader(train_dataset, batch_size=4, shuffle=True)\n",
        "val_dataset = core.Dataset('val.csv', 'trainval/images', transform=custom_transforms)"
      ]
    },
    {
      "cell_type": "code",
      "source": [
        ""
      ],
      "metadata": {
        "id": "jGP_9iAS18Ax"
      },
      "execution_count": null,
      "outputs": []
    },
    {
      "cell_type": "markdown",
      "source": [
        "### Model building and training"
      ],
      "metadata": {
        "id": "SikTfnyb18T5"
      }
    },
    {
      "cell_type": "code",
      "execution_count": null,
      "metadata": {
        "id": "fqtyQaeSqAGW",
        "colab": {
          "base_uri": "https://localhost:8080/",
          "height": 86,
          "referenced_widgets": [
            "56dd9c49c91c490da3a8a7328e46ad4a",
            "20e5d5d68f98482e8041a1f964f156b0",
            "c19e410486434867b4580f031cfde4d8",
            "74b1e24165804b8aaeb7ac8a2121ab4b",
            "0bd47452371a4fb59b6495db47427a59",
            "221497a97060431fa90de716709e45ba",
            "e80f0c14698642fe9e1415755e0c94e9",
            "cd425837f13943f585b3d7c7c9dcb304",
            "0bb696bf5c964956b011fb9afc6cc7a6",
            "5d0118a3ef6d466b8373037d5c365a04",
            "9c3cd0f16c0748d5a896a10b31c0d6d1"
          ]
        },
        "outputId": "499ebc54-8c57-4502-896a-16d6c9887b72"
      },
      "outputs": [
        {
          "output_type": "stream",
          "name": "stderr",
          "text": [
            "Downloading: \"https://download.pytorch.org/models/fasterrcnn_resnet50_fpn_coco-258fb6c6.pth\" to /root/.cache/torch/hub/checkpoints/fasterrcnn_resnet50_fpn_coco-258fb6c6.pth\n"
          ]
        },
        {
          "output_type": "display_data",
          "data": {
            "text/plain": [
              "  0%|          | 0.00/160M [00:00<?, ?B/s]"
            ],
            "application/vnd.jupyter.widget-view+json": {
              "version_major": 2,
              "version_minor": 0,
              "model_id": "56dd9c49c91c490da3a8a7328e46ad4a"
            }
          },
          "metadata": {}
        }
      ],
      "source": [
        "models = ['fasterrcnn_resnet50_fpn', 'fasterrcnn_mobilenet_v3_large_fpn', 'fasterrcnn_mobilenet_v3_large_320_fpn']\n",
        "optimizers = [\"RMSprop\", \"Adamax\", \"AdamW\"]\n",
        "learning_rate = [0.001, 0.01, 0.1]\n",
        "epoch = 100\n",
        "device = torch.device('cuda' if torch.cuda.is_available() else 'cpu')"
      ]
    },
    {
      "cell_type": "code",
      "execution_count": null,
      "metadata": {
        "id": "sE-TZkEzqVVF"
      },
      "outputs": [],
      "source": [
        "for i in models:\n",
        "    for j in optimizers:\n",
        "        for k in learning_rate:\n",
        "            \n",
        "            # create a folder to dump tensorboard versions (folde name: model_optimizer_learning_rate)\n",
        "            path_tensorboard = \"runs/trial_detecto/\"+i+\"_\"+j+\"_\"+str(k)\n",
        "            os.makedirs(path_tensorboard, exist_ok=True)\n",
        "            with open(path_tensorboard+\"/readme.txt\", 'w') as text:\n",
        "                text.writelines([\"Model Name: \"+i,\"Optimizer: \"+j, \"Learning Rate : \"+ str(k)])\n",
        "            writer = SummaryWriter(path_tensorboard)\n",
        "            model = core.Model(['person', 'car'], device = device, model_name=i)\n",
        "            losses = model.fit(train_loader, writer=writer ,epochs=epoch, learning_rate=k, verbose=False, optimizer=j)\n",
        "            # Open respective folders to dump losses of model\n",
        "            with open(path_tensorboard+\"losses.pkl\",'wb') as loss:pickle.dump(losses, loss)\n",
        "            # Save the models in respective folders\n",
        "            torch.save(model._model,path_tensorboard+\"/model.pth\")\n",
        "            writer.flush()"
      ]
    },
    {
      "cell_type": "code",
      "execution_count": null,
      "metadata": {
        "id": "rpGYGF4Uan7g"
      },
      "outputs": [],
      "source": [
        ""
      ]
    },
    {
      "cell_type": "markdown",
      "metadata": {
        "id": "m-eWjjhItOJw"
      },
      "source": [
        "### Model Inference"
      ]
    },
    {
      "cell_type": "code",
      "execution_count": null,
      "metadata": {
        "id": "p_msOSbwskKd"
      },
      "outputs": [],
      "source": [
        "model_load = core.Model.load(\"person_car_detecto_model.pth\", ['person', 'car'])"
      ]
    },
    {
      "cell_type": "markdown",
      "source": [
        "##### Helper functions for inference"
      ],
      "metadata": {
        "id": "nHZsh57e2Kzp"
      }
    },
    {
      "cell_type": "code",
      "execution_count": null,
      "metadata": {
        "id": "7V9xUVjltmoo"
      },
      "outputs": [],
      "source": [
        "def show_labeled_image(image, boxes, labels=None, scores=None):\n",
        "    fig, ax = plt.subplots(1)\n",
        "    # If the image is already a tensor, convert it back to a PILImage\n",
        "    # and reverse normalize it\n",
        "    if isinstance(image, torch.Tensor):\n",
        "        image = reverse_normalize(image)\n",
        "        image = transforms.ToPILImage()(image)\n",
        "    ax.imshow(image)\n",
        "\n",
        "    # Show a single box or multiple if provided\n",
        "    if boxes.ndim == 1:\n",
        "        boxes = boxes.view(1, 4)\n",
        "\n",
        "#     if labels is not None and not _is_iterable(labels):\n",
        "#         labels = [labels]\n",
        "\n",
        "    # Plot each box\n",
        "    for i in range(boxes.shape[0]):\n",
        "        box = boxes[i]\n",
        "        width, height = (box[2] - box[0]).item(), (box[3] - box[1]).item()\n",
        "        initial_pos = (box[0].item(), box[1].item())\n",
        "        rect = patches.Rectangle(initial_pos,  width, height, linewidth=1,\n",
        "                                 edgecolor='r', facecolor='none')\n",
        "        if labels:\n",
        "            ax.text(box[0] + 5, box[1] - 5, '{}'.format(labels[i]), color='red')\n",
        "        if scores is not None:\n",
        "            ax.text(box[0] + 15, box[1] - 15, '{}'.format(np.round(scores[i],1)), color='blue')\n",
        "\n",
        "        ax.add_patch(rect)\n",
        "\n",
        "    plt.show()"
      ]
    },
    {
      "cell_type": "code",
      "execution_count": null,
      "metadata": {
        "id": "ggKBDzAutxUv"
      },
      "outputs": [],
      "source": [
        "# Inference\n",
        "\n",
        "def inference(image, model, thresh):\n",
        "    img = utils.read_image(image)\n",
        "    labels, boxes, scores = model.predict(img)\n",
        "    filtered_indices=np.where(scores>thresh)\n",
        "    filtered_scores=scores[filtered_indices]\n",
        "    filtered_boxes=boxes[filtered_indices]\n",
        "    num_list = filtered_indices[0].tolist()\n",
        "    filtered_labels = [labels[i] for i in num_list]\n",
        "    show_labeled_image(img, filtered_boxes, filtered_labels, filtered_scores)\n",
        "    return filtered_labels, filtered_boxes, filtered_scores"
      ]
    },
    {
      "cell_type": "code",
      "source": [
        ""
      ],
      "metadata": {
        "id": "Iop3jWwq2SHz"
      },
      "execution_count": null,
      "outputs": []
    },
    {
      "cell_type": "markdown",
      "source": [
        "#### IoU Calculation on Inference"
      ],
      "metadata": {
        "id": "fvi3Cupp2Sl2"
      }
    },
    {
      "cell_type": "code",
      "execution_count": null,
      "metadata": {
        "id": "Fp7Znwn3txXg"
      },
      "outputs": [],
      "source": [
        "def intersection_over_union(gt_box, pred_box):\n",
        "    inter_box_top_left = [max(gt_box[0], pred_box[0]), max(gt_box[1], pred_box[1])]\n",
        "    inter_box_bottom_right = [min(gt_box[0]+gt_box[2], pred_box[0]+pred_box[2]), min(gt_box[1]+gt_box[3], pred_box[1]+pred_box[3])]\n",
        "\n",
        "    inter_box_w = inter_box_bottom_right[0] - inter_box_top_left[0]\n",
        "    inter_box_h = inter_box_bottom_right[1] - inter_box_top_left[1]\n",
        "\n",
        "    intersection = inter_box_w * inter_box_h\n",
        "    union = gt_box[2] * gt_box[3] + pred_box[2] * pred_box[3] - intersection\n",
        "    \n",
        "    iou = intersection / union\n",
        "\n",
        "    return iou, intersection, union"
      ]
    },
    {
      "cell_type": "code",
      "execution_count": null,
      "metadata": {
        "id": "D0GRKyHjtxcY"
      },
      "outputs": [],
      "source": [
        "image_iou_dictionary = {}\n",
        "\n",
        "for i in test['filename']:\n",
        "    \n",
        "    filtered_labels, filtered_boxes, filtered_scores = inference(\"/content/drive/MyDrive/OpenImages/trainval/images/\"+i, model_load, thresh=0.2)\n",
        "    print(i)\n",
        "    ground_truth = data[data['filename']==i][['xmin','ymin','xmax','ymax']].values.tolist()\n",
        "    \n",
        "    iou = []\n",
        "    for k in filtered_boxes:\n",
        "        for j in ground_truth:\n",
        "            ious, intersection, union = intersection_over_union(j, k)\n",
        "            iou.append(ious)\n",
        "    image_iou_dictionary[i] = np.mean(np.sort(iou)[::-1][:len(ground_truth)])"
      ]
    },
    {
      "cell_type": "code",
      "execution_count": null,
      "metadata": {
        "id": "oIc8vCZWtxe4"
      },
      "outputs": [],
      "source": [
        "image_iou_dictionary"
      ]
    },
    {
      "cell_type": "code",
      "execution_count": null,
      "metadata": {
        "id": "Q96jhoictxhP"
      },
      "outputs": [],
      "source": [
        ""
      ]
    }
  ],
  "metadata": {
    "accelerator": "GPU",
    "colab": {
      "collapsed_sections": [],
      "name": "Person_Cars_Detection.ipynb",
      "provenance": []
    },
    "kernelspec": {
      "display_name": "Python 3",
      "name": "python3"
    },
    "language_info": {
      "name": "python"
    },
    "widgets": {
      "application/vnd.jupyter.widget-state+json": {
        "56dd9c49c91c490da3a8a7328e46ad4a": {
          "model_module": "@jupyter-widgets/controls",
          "model_name": "HBoxModel",
          "model_module_version": "1.5.0",
          "state": {
            "_dom_classes": [],
            "_model_module": "@jupyter-widgets/controls",
            "_model_module_version": "1.5.0",
            "_model_name": "HBoxModel",
            "_view_count": null,
            "_view_module": "@jupyter-widgets/controls",
            "_view_module_version": "1.5.0",
            "_view_name": "HBoxView",
            "box_style": "",
            "children": [
              "IPY_MODEL_20e5d5d68f98482e8041a1f964f156b0",
              "IPY_MODEL_c19e410486434867b4580f031cfde4d8",
              "IPY_MODEL_74b1e24165804b8aaeb7ac8a2121ab4b"
            ],
            "layout": "IPY_MODEL_0bd47452371a4fb59b6495db47427a59"
          }
        },
        "20e5d5d68f98482e8041a1f964f156b0": {
          "model_module": "@jupyter-widgets/controls",
          "model_name": "HTMLModel",
          "model_module_version": "1.5.0",
          "state": {
            "_dom_classes": [],
            "_model_module": "@jupyter-widgets/controls",
            "_model_module_version": "1.5.0",
            "_model_name": "HTMLModel",
            "_view_count": null,
            "_view_module": "@jupyter-widgets/controls",
            "_view_module_version": "1.5.0",
            "_view_name": "HTMLView",
            "description": "",
            "description_tooltip": null,
            "layout": "IPY_MODEL_221497a97060431fa90de716709e45ba",
            "placeholder": "​",
            "style": "IPY_MODEL_e80f0c14698642fe9e1415755e0c94e9",
            "value": "100%"
          }
        },
        "c19e410486434867b4580f031cfde4d8": {
          "model_module": "@jupyter-widgets/controls",
          "model_name": "FloatProgressModel",
          "model_module_version": "1.5.0",
          "state": {
            "_dom_classes": [],
            "_model_module": "@jupyter-widgets/controls",
            "_model_module_version": "1.5.0",
            "_model_name": "FloatProgressModel",
            "_view_count": null,
            "_view_module": "@jupyter-widgets/controls",
            "_view_module_version": "1.5.0",
            "_view_name": "ProgressView",
            "bar_style": "success",
            "description": "",
            "description_tooltip": null,
            "layout": "IPY_MODEL_cd425837f13943f585b3d7c7c9dcb304",
            "max": 167502836,
            "min": 0,
            "orientation": "horizontal",
            "style": "IPY_MODEL_0bb696bf5c964956b011fb9afc6cc7a6",
            "value": 167502836
          }
        },
        "74b1e24165804b8aaeb7ac8a2121ab4b": {
          "model_module": "@jupyter-widgets/controls",
          "model_name": "HTMLModel",
          "model_module_version": "1.5.0",
          "state": {
            "_dom_classes": [],
            "_model_module": "@jupyter-widgets/controls",
            "_model_module_version": "1.5.0",
            "_model_name": "HTMLModel",
            "_view_count": null,
            "_view_module": "@jupyter-widgets/controls",
            "_view_module_version": "1.5.0",
            "_view_name": "HTMLView",
            "description": "",
            "description_tooltip": null,
            "layout": "IPY_MODEL_5d0118a3ef6d466b8373037d5c365a04",
            "placeholder": "​",
            "style": "IPY_MODEL_9c3cd0f16c0748d5a896a10b31c0d6d1",
            "value": " 160M/160M [00:06&lt;00:00, 39.2MB/s]"
          }
        },
        "0bd47452371a4fb59b6495db47427a59": {
          "model_module": "@jupyter-widgets/base",
          "model_name": "LayoutModel",
          "model_module_version": "1.2.0",
          "state": {
            "_model_module": "@jupyter-widgets/base",
            "_model_module_version": "1.2.0",
            "_model_name": "LayoutModel",
            "_view_count": null,
            "_view_module": "@jupyter-widgets/base",
            "_view_module_version": "1.2.0",
            "_view_name": "LayoutView",
            "align_content": null,
            "align_items": null,
            "align_self": null,
            "border": null,
            "bottom": null,
            "display": null,
            "flex": null,
            "flex_flow": null,
            "grid_area": null,
            "grid_auto_columns": null,
            "grid_auto_flow": null,
            "grid_auto_rows": null,
            "grid_column": null,
            "grid_gap": null,
            "grid_row": null,
            "grid_template_areas": null,
            "grid_template_columns": null,
            "grid_template_rows": null,
            "height": null,
            "justify_content": null,
            "justify_items": null,
            "left": null,
            "margin": null,
            "max_height": null,
            "max_width": null,
            "min_height": null,
            "min_width": null,
            "object_fit": null,
            "object_position": null,
            "order": null,
            "overflow": null,
            "overflow_x": null,
            "overflow_y": null,
            "padding": null,
            "right": null,
            "top": null,
            "visibility": null,
            "width": null
          }
        },
        "221497a97060431fa90de716709e45ba": {
          "model_module": "@jupyter-widgets/base",
          "model_name": "LayoutModel",
          "model_module_version": "1.2.0",
          "state": {
            "_model_module": "@jupyter-widgets/base",
            "_model_module_version": "1.2.0",
            "_model_name": "LayoutModel",
            "_view_count": null,
            "_view_module": "@jupyter-widgets/base",
            "_view_module_version": "1.2.0",
            "_view_name": "LayoutView",
            "align_content": null,
            "align_items": null,
            "align_self": null,
            "border": null,
            "bottom": null,
            "display": null,
            "flex": null,
            "flex_flow": null,
            "grid_area": null,
            "grid_auto_columns": null,
            "grid_auto_flow": null,
            "grid_auto_rows": null,
            "grid_column": null,
            "grid_gap": null,
            "grid_row": null,
            "grid_template_areas": null,
            "grid_template_columns": null,
            "grid_template_rows": null,
            "height": null,
            "justify_content": null,
            "justify_items": null,
            "left": null,
            "margin": null,
            "max_height": null,
            "max_width": null,
            "min_height": null,
            "min_width": null,
            "object_fit": null,
            "object_position": null,
            "order": null,
            "overflow": null,
            "overflow_x": null,
            "overflow_y": null,
            "padding": null,
            "right": null,
            "top": null,
            "visibility": null,
            "width": null
          }
        },
        "e80f0c14698642fe9e1415755e0c94e9": {
          "model_module": "@jupyter-widgets/controls",
          "model_name": "DescriptionStyleModel",
          "model_module_version": "1.5.0",
          "state": {
            "_model_module": "@jupyter-widgets/controls",
            "_model_module_version": "1.5.0",
            "_model_name": "DescriptionStyleModel",
            "_view_count": null,
            "_view_module": "@jupyter-widgets/base",
            "_view_module_version": "1.2.0",
            "_view_name": "StyleView",
            "description_width": ""
          }
        },
        "cd425837f13943f585b3d7c7c9dcb304": {
          "model_module": "@jupyter-widgets/base",
          "model_name": "LayoutModel",
          "model_module_version": "1.2.0",
          "state": {
            "_model_module": "@jupyter-widgets/base",
            "_model_module_version": "1.2.0",
            "_model_name": "LayoutModel",
            "_view_count": null,
            "_view_module": "@jupyter-widgets/base",
            "_view_module_version": "1.2.0",
            "_view_name": "LayoutView",
            "align_content": null,
            "align_items": null,
            "align_self": null,
            "border": null,
            "bottom": null,
            "display": null,
            "flex": null,
            "flex_flow": null,
            "grid_area": null,
            "grid_auto_columns": null,
            "grid_auto_flow": null,
            "grid_auto_rows": null,
            "grid_column": null,
            "grid_gap": null,
            "grid_row": null,
            "grid_template_areas": null,
            "grid_template_columns": null,
            "grid_template_rows": null,
            "height": null,
            "justify_content": null,
            "justify_items": null,
            "left": null,
            "margin": null,
            "max_height": null,
            "max_width": null,
            "min_height": null,
            "min_width": null,
            "object_fit": null,
            "object_position": null,
            "order": null,
            "overflow": null,
            "overflow_x": null,
            "overflow_y": null,
            "padding": null,
            "right": null,
            "top": null,
            "visibility": null,
            "width": null
          }
        },
        "0bb696bf5c964956b011fb9afc6cc7a6": {
          "model_module": "@jupyter-widgets/controls",
          "model_name": "ProgressStyleModel",
          "model_module_version": "1.5.0",
          "state": {
            "_model_module": "@jupyter-widgets/controls",
            "_model_module_version": "1.5.0",
            "_model_name": "ProgressStyleModel",
            "_view_count": null,
            "_view_module": "@jupyter-widgets/base",
            "_view_module_version": "1.2.0",
            "_view_name": "StyleView",
            "bar_color": null,
            "description_width": ""
          }
        },
        "5d0118a3ef6d466b8373037d5c365a04": {
          "model_module": "@jupyter-widgets/base",
          "model_name": "LayoutModel",
          "model_module_version": "1.2.0",
          "state": {
            "_model_module": "@jupyter-widgets/base",
            "_model_module_version": "1.2.0",
            "_model_name": "LayoutModel",
            "_view_count": null,
            "_view_module": "@jupyter-widgets/base",
            "_view_module_version": "1.2.0",
            "_view_name": "LayoutView",
            "align_content": null,
            "align_items": null,
            "align_self": null,
            "border": null,
            "bottom": null,
            "display": null,
            "flex": null,
            "flex_flow": null,
            "grid_area": null,
            "grid_auto_columns": null,
            "grid_auto_flow": null,
            "grid_auto_rows": null,
            "grid_column": null,
            "grid_gap": null,
            "grid_row": null,
            "grid_template_areas": null,
            "grid_template_columns": null,
            "grid_template_rows": null,
            "height": null,
            "justify_content": null,
            "justify_items": null,
            "left": null,
            "margin": null,
            "max_height": null,
            "max_width": null,
            "min_height": null,
            "min_width": null,
            "object_fit": null,
            "object_position": null,
            "order": null,
            "overflow": null,
            "overflow_x": null,
            "overflow_y": null,
            "padding": null,
            "right": null,
            "top": null,
            "visibility": null,
            "width": null
          }
        },
        "9c3cd0f16c0748d5a896a10b31c0d6d1": {
          "model_module": "@jupyter-widgets/controls",
          "model_name": "DescriptionStyleModel",
          "model_module_version": "1.5.0",
          "state": {
            "_model_module": "@jupyter-widgets/controls",
            "_model_module_version": "1.5.0",
            "_model_name": "DescriptionStyleModel",
            "_view_count": null,
            "_view_module": "@jupyter-widgets/base",
            "_view_module_version": "1.2.0",
            "_view_name": "StyleView",
            "description_width": ""
          }
        }
      }
    }
  },
  "nbformat": 4,
  "nbformat_minor": 0
}